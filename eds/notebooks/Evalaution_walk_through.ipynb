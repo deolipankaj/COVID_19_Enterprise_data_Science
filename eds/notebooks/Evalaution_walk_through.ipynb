{
 "cells": [
  {
   "cell_type": "markdown",
   "metadata": {},
   "source": [
    "# 1. Updating the all data"
   ]
  },
  {
   "cell_type": "code",
   "execution_count": 1,
   "metadata": {
    "scrolled": true
   },
   "outputs": [
    {
     "name": "stdout",
     "output_type": "stream",
     "text": [
      "Error : b'From https://github.com/CSSEGISandData/COVID-19\\n   1326d8d8..a041275a  master              -> origin/master\\n * [new branch]        2962-Update-Mexico-July-25 -> origin/2962-Update-Mexico-July-25\\n * [new branch]        2963-Update-Hidalgo -> origin/2963-Update-Hidalgo\\n   0f1fb49c..dcaf17e5  web-data            -> origin/web-data\\n'\n",
      "out : b'Updating 1326d8d8..a041275a\\nFast-forward\\n README.md                                          |    1 +\\n csse_covid_19_data/README.md                       |    6 +-\\n .../csse_covid_19_daily_reports/07-25-2020.csv     |   66 +-\\n .../csse_covid_19_daily_reports/07-30-2020.csv     | 3936 ++++++++++++\\n .../csse_covid_19_daily_reports/07-31-2020.csv     | 3936 ++++++++++++\\n .../csse_covid_19_daily_reports/08-01-2020.csv     | 3936 ++++++++++++\\n .../csse_covid_19_daily_reports_us/07-30-2020.csv  |   59 +\\n .../csse_covid_19_daily_reports_us/07-31-2020.csv  |   59 +\\n .../csse_covid_19_daily_reports_us/08-01-2020.csv  |   59 +\\n .../csse_covid_19_time_series/Errata.csv           |    8 +\\n .../time_series_covid19_confirmed_US.csv           | 6682 ++++++++++----------\\n .../time_series_covid19_confirmed_global.csv       |  534 +-\\n .../time_series_covid19_deaths_US.csv              | 6682 ++++++++++----------\\n .../time_series_covid19_deaths_global.csv          |  534 +-\\n .../time_series_covid19_recovered_global.csv       |  508 +-\\n 15 files changed, 19502 insertions(+), 7504 deletions(-)\\n create mode 100644 csse_covid_19_data/csse_covid_19_daily_reports/07-30-2020.csv\\n create mode 100644 csse_covid_19_data/csse_covid_19_daily_reports/07-31-2020.csv\\n create mode 100644 csse_covid_19_data/csse_covid_19_daily_reports/08-01-2020.csv\\n create mode 100644 csse_covid_19_data/csse_covid_19_daily_reports_us/07-30-2020.csv\\n create mode 100644 csse_covid_19_data/csse_covid_19_daily_reports_us/07-31-2020.csv\\n create mode 100644 csse_covid_19_data/csse_covid_19_daily_reports_us/08-01-2020.csv\\n'\n",
      "Number of regions rows : 412\n"
     ]
    }
   ],
   "source": [
    "# %load ../src/data/get_data.py\n",
    "import subprocess\n",
    "import os\n",
    "\n",
    "import pandas as pd\n",
    "import numpy as np\n",
    "\n",
    "from datetime import datetime\n",
    "\n",
    "import requests\n",
    "import json\n",
    "\n",
    "def get_john_hopkins_data():\n",
    "    git_pull = subprocess.Popen(\"/usr/bin/git pull\",\n",
    "                                cwd = os.path.dirname('../data/raw/COVID-19/'),\n",
    "                                shell = True,\n",
    "                                stdout = subprocess.PIPE,\n",
    "                                stderr = subprocess.PIPE)\n",
    "    \n",
    "    (out, error) = git_pull.communicate()\n",
    "    \n",
    "    print(\"Error : \" + str(error))\n",
    "    print(\"out : \"  + str(out))\n",
    "    \n",
    "def get_current_data_germany():\n",
    "    # Total states = 16\n",
    "    # data = requests.get(\"https://services7.arcgis.com/mOBPykOjAyBO2ZKk/arcgis/rest/services/Coronaf%C3%A4lle_in_den_Bundesl%C3%A4ndern/FeatureServer/0/query?where=1%3D1&outFields=*&outSR=4326&f=json\")\n",
    "    \n",
    "    # 400 regions\n",
    "    data = requests.get(\"https://services7.arcgis.com/mOBPykOjAyBO2ZKk/arcgis/rest/services/RKI_Landkreisdaten/FeatureServer/0/query?where=1%3D1&outFields=*&outSR=4326&f=json\")\n",
    "    \n",
    "    json_object = json.loads(data.content)\n",
    "    full_list = []\n",
    "    for pos, each_dict in enumerate (json_object['features'] [:]):\n",
    "        full_list.append(each_dict['attributes'])\n",
    "        \n",
    "    pd_full_list = pd.DataFrame(full_list)\n",
    "    pd_full_list.to_csv('../data/raw/NPGEO/Ger_state_data.csv', sep = ';')\n",
    "    print('Number of regions rows : ' +str(pd_full_list.shape[0]))\n",
    "    \n",
    "if __name__ == '__main__':\n",
    "    get_john_hopkins_data()\n",
    "    get_current_data_germany()"
   ]
  },
  {
   "cell_type": "markdown",
   "metadata": {},
   "source": [
    "# 2. Process pipeline"
   ]
  },
  {
   "cell_type": "code",
   "execution_count": 2,
   "metadata": {},
   "outputs": [
    {
     "name": "stdout",
     "output_type": "stream",
     "text": [
      "Number of rows stored :51338\n"
     ]
    }
   ],
   "source": [
    "# %load ../src/data/process_JH_data.py\n",
    "import pandas as pd\n",
    "import numpy as np\n",
    "\n",
    "from datetime import datetime\n",
    "\n",
    "def store_relational_JH_data():\n",
    "    \n",
    "    data_path = '../data/raw/COVID-19/csse_covid_19_data/csse_covid_19_time_series/time_series_covid19_confirmed_global.csv'\n",
    "    pd_raw = pd.read_csv(data_path)\n",
    "    \n",
    "    pd_data_base = pd_raw.rename(columns = {'Country/Region': 'country',\n",
    "                                           'Province/State': 'state'})\n",
    "    \n",
    "    pd_data_base['state'] = pd_data_base['state'].fillna('no')\n",
    "    \n",
    "    pd_data_base = pd_data_base.drop(['Lat', 'Long'], axis = 1)\n",
    "    \n",
    "    pd_relational_model = pd_data_base.set_index(['state', 'country'])\\\n",
    "                                    .T                                \\\n",
    "                                        .stack(level = [0,1])         \\\n",
    "                                            .reset_index()           \\\n",
    "                                                .rename(columns = {'level_0' : 'date',\n",
    "                                                                   0: 'confirmed'},\n",
    "                                                        )\n",
    "    pd_relational_model['date'] = pd_relational_model.date.astype('datetime64[ns]')\n",
    "    \n",
    "    pd_relational_model.to_csv('../data/processed/COVID_relational_confirmed.csv', sep = ';', index = False)\n",
    "    print('Number of rows stored :' +str(pd_relational_model.shape[0]))\n",
    "    \n",
    "if __name__ == '__main__':\n",
    "    \n",
    "    store_relational_JH_data()"
   ]
  },
  {
   "cell_type": "markdown",
   "metadata": {},
   "source": [
    "# 3. Filter and Doubling Rate calculation"
   ]
  },
  {
   "cell_type": "code",
   "execution_count": 12,
   "metadata": {},
   "outputs": [
    {
     "name": "stdout",
     "output_type": "stream",
     "text": [
      "The test slope is:[2.]\n",
      "   index       date    state       country  confirmed  confirmed_filtered  \\\n",
      "0      0 2020-01-22  Alberta        Canada        0.0                 0.0   \n",
      "1    169 2020-01-22       no  Korea, South        1.0                -4.8   \n",
      "2    170 2020-01-22       no        Kosovo        0.0                 0.0   \n",
      "3    171 2020-01-22       no        Kuwait        0.0                 0.0   \n",
      "4    172 2020-01-22       no    Kyrgyzstan        0.0                10.8   \n",
      "\n",
      "   confirmed_DR  confirmed_filtered_DR  \n",
      "0           NaN                    NaN  \n",
      "1           NaN                    NaN  \n",
      "2           NaN                    NaN  \n",
      "3           NaN                    NaN  \n",
      "4           NaN                    NaN  \n"
     ]
    }
   ],
   "source": [
    "# %load ../src/features/build_features.py\n",
    "import numpy as np\n",
    "from sklearn import linear_model\n",
    "reg = linear_model.LinearRegression(fit_intercept = True)\n",
    "import pandas as pd\n",
    "\n",
    "from scipy import signal\n",
    "\n",
    "def get_doubling_time_via_regression(in_array):\n",
    "    '''Using a linear regression to approximate the doubling rate'''\n",
    "    \n",
    "    y = np.array(in_array)\n",
    "    X = np.arange(-1,2).reshape(-1,1)\n",
    "    \n",
    "    assert len(in_array) == 3\n",
    "    reg.fit(X,y)\n",
    "    intercept = reg.intercept_\n",
    "    slope = reg.coef_\n",
    "    \n",
    "    return intercept/slope\n",
    "\n",
    "def savgol_filter(df_input, column = 'confirmed', window = 5):\n",
    "    ''' Savgol filter which can be used in groupby apply functions\n",
    "    it ensures that the data structure is kept'''\n",
    "    \n",
    "    window = 5,\n",
    "    degree = 1\n",
    "    df_result = df_input\n",
    "    \n",
    "    filter_in = df_input[column].fillna(0)\n",
    "    \n",
    "    result = signal.savgol_filter(np.array(filter_in),\n",
    "                                  5,\n",
    "                                  1)\n",
    "    df_result[column+'_filtered'] = result\n",
    "    return df_result\n",
    "\n",
    "def rolling_reg(df_input, col = 'confirmed'):\n",
    "    '''input has to be a data frame'''\n",
    "    \n",
    "    days_back = 3\n",
    "    result = df_input[col].rolling(\n",
    "                    window = days_back,\n",
    "                    min_periods = days_back).apply(get_doubling_time_via_regression, raw = False)\n",
    "    return result\n",
    "\n",
    "def calc_filtered_data(df_input,filter_on = 'confirmed'):\n",
    "    '''\n",
    "        calculate the savgol filter and return the merged data frame\n",
    "\n",
    "    '''\n",
    "    must_contain = set(['state','country', filter_on])\n",
    "    assert must_contain.issubset(set(df_input.columns)), 'error in calc_filtered_data not all columns in data frame'\n",
    "    \n",
    "    pd_filtered_result = df_input[['state','country', filter_on]].groupby(['state','country']).apply(savgol_filter).reset_index()\n",
    "    df_output = pd.merge(df_input, pd_filtered_result[['index', filter_on+'_filtered']], on = ['index'], how = 'left')\n",
    "    \n",
    "    return df_output\n",
    "\n",
    "def calc_doubling_rate(df_input,filter_on = 'confirmed'):\n",
    "    '''\n",
    "        calculate approximated doubling rate and return merged data frame\n",
    "    '''\n",
    "    \n",
    "    must_contain = set(['state','country', filter_on])\n",
    "    assert must_contain.issubset(set(df_input.columns)), 'Error in calc_filtered_data not all columns in data frame'\n",
    "    \n",
    "    pd_DR_result = df_input.groupby(['state', 'country']).apply(rolling_reg, filter_on).reset_index()\n",
    "    pd_DR_result = pd_DR_result.rename(columns = {filter_on: filter_on+'_DR',\n",
    "                                                  'level_2': 'index'})\n",
    "    \n",
    "    df_output = pd.merge(df_input, pd_DR_result[['index', filter_on + '_DR']], on = ['index'], how = 'left')\n",
    "    return df_output\n",
    "\n",
    "def pd_result_large_final():\n",
    "    pd_JH_data = pd.read_csv('../data/processed/COVID_relational_confirmed.csv', sep = ';', parse_dates = [0])\n",
    "    pd_JH_data = pd_JH_data.sort_values('date', ascending = True).reset_index().copy()\n",
    "    \n",
    "    pd_result_large = calc_filtered_data(pd_JH_data)\n",
    "    pd_result_large = calc_doubling_rate(pd_result_large)\n",
    "    pd_result_large = calc_doubling_rate(pd_result_large, 'confirmed_filtered')\n",
    "    pd_result_large.to_csv('../data/processed/COVID_final_set.csv',sep=';',index=False)\n",
    "\n",
    "    \n",
    "\n",
    "\n",
    "if __name__ == '__main__':\n",
    "    test_data_reg = np.array([2,4,6])\n",
    "    result = get_doubling_time_via_regression(test_data_reg)\n",
    "    print('The test slope is:' + str(result))\n",
    "    \n",
    "    pd_result_large_final()\n",
    "    print(pd_result_large_final.head())\n",
    "    \n",
    "    \n",
    "    \n",
    "\n",
    "    \n"
   ]
  },
  {
   "cell_type": "code",
   "execution_count": null,
   "metadata": {},
   "outputs": [],
   "source": []
  }
 ],
 "metadata": {
  "kernelspec": {
   "display_name": "Python 3",
   "language": "python",
   "name": "python3"
  },
  "language_info": {
   "codemirror_mode": {
    "name": "ipython",
    "version": 3
   },
   "file_extension": ".py",
   "mimetype": "text/x-python",
   "name": "python",
   "nbconvert_exporter": "python",
   "pygments_lexer": "ipython3",
   "version": "3.7.6"
  }
 },
 "nbformat": 4,
 "nbformat_minor": 4
}
